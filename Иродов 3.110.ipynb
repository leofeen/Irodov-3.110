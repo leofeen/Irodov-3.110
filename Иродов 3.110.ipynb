{
 "cells": [
  {
   "cell_type": "markdown",
   "id": "9089cf80",
   "metadata": {},
   "source": [
    "Задаём начальные условия"
   ]
  },
  {
   "cell_type": "code",
   "execution_count": 1,
   "id": "cf77c354",
   "metadata": {
    "jupyter": {
     "source_hidden": true
    },
    "tags": []
   },
   "outputs": [],
   "source": [
    "class PlotData:\n",
    "    def __init__(self):\n",
    "        self.p_average_max = 0\n",
    "        self.omega_zero = 0\n",
    "        self.p_values = [0, 0, 0, 0, 0]\n",
    "        self.omega_values = [0, 0, 0, 0, 0]\n",
    "        self.beta = 0\n",
    "        self.left_boundary = 0\n",
    "        self.right_boundary = 0\n",
    "        \n",
    "    def __str__(self):\n",
    "        return f'{self.p_average_max}, {self.omega_zero}, {self.p_values}, {self.omega_values}, {self.beta}'\n",
    "        \n",
    "plot_data = PlotData()"
   ]
  },
  {
   "cell_type": "code",
   "execution_count": 2,
   "id": "268fdf00",
   "metadata": {
    "jupyter": {
     "source_hidden": true
    },
    "scrolled": true,
    "tags": []
   },
   "outputs": [
    {
     "data": {
      "application/vnd.jupyter.widget-view+json": {
       "model_id": "cafa4c8fc8c34eb893d2732a0ae8039a",
       "version_major": 2,
       "version_minor": 0
      },
      "text/plain": [
       "VBox(children=(HBox(children=(IntSlider(value=4, description='P max', max=10, min=1), IntSlider(value=250, des…"
      ]
     },
     "metadata": {},
     "output_type": "display_data"
    },
    {
     "data": {
      "application/vnd.jupyter.widget-view+json": {
       "model_id": "7403c96ba5fa40dd8c849a86fa5c41b0",
       "version_major": 2,
       "version_minor": 0
      },
      "text/plain": [
       "Output()"
      ]
     },
     "metadata": {},
     "output_type": "display_data"
    }
   ],
   "source": [
    "from ipywidgets import interactive_output\n",
    "import ipywidgets as widgets\n",
    "from IPython.display import display\n",
    "\n",
    "def set_values(_p_average_max, _omega_zero, p_first, p_second, p_third, p_fourth, p_end_first, p_end_second, omega_first, omega_second, omega_third, omega_fourth, omega_end_first, omega_end_second):\n",
    "    plot_data.p_average_max = _p_average_max\n",
    "    plot_data.omega_zero = _omega_zero\n",
    "    plot_data.p_values = [p_end_first, p_first, p_second, _p_average_max, p_third, p_fourth, p_end_second]\n",
    "    plot_data.omega_values = [omega_end_first, omega_first, omega_second, _omega_zero, omega_third, omega_fourth, omega_end_second]\n",
    "\n",
    "p_max_slider = widgets.IntSlider(value=4, min=1, max=10, description='P max')\n",
    "omega_zero_slider = widgets.IntSlider(value=250, min=150, max=350, description='ω0')\n",
    "\n",
    "p_first_slider = widgets.FloatSlider(value=0.5, min=0, max=10, description='P1', step=0.1)\n",
    "p_second_slider = widgets.FloatSlider(value=1, min=0, max=10, description='P2', step=0.1)\n",
    "p_third_slider = widgets.FloatSlider(value=1, min=0, max=10, description='P3', step=0.1)\n",
    "p_fourth_slider = widgets.FloatSlider(value=0.5, min=0, max=10, description='P4', step=0.1)\n",
    "p_end_first_slider = widgets.FloatSlider(value=0.2, min=0.1, max=10, description='P end1', step=0.1)\n",
    "p_end_second_slider = widgets.FloatSlider(value=0.3, min=0.1, max=10, description='P end2', step=0.1)\n",
    "\n",
    "omega_first_slider = widgets.IntSlider(value=150, min=150, max=350, description='ω1')\n",
    "omega_second_slider = widgets.IntSlider(value=190, min=150, max=350, description='ω2')\n",
    "omega_third_slider = widgets.IntSlider(value=310, min=150, max=400, description='ω3')\n",
    "omega_fourth_slider = widgets.IntSlider(value=360, min=150, max=400, description='ω4')\n",
    "omega_end_first_slider = widgets.IntSlider(value=100, min=100, max=350, description='ω end1')\n",
    "omega_end_second_slider = widgets.IntSlider(value=400, min=150, max=400, description='ω end2')\n",
    "\n",
    "resonanse_block = widgets.HBox([p_max_slider, omega_zero_slider])\n",
    "p_first_block = widgets.HBox([p_first_slider, omega_first_slider])\n",
    "p_second_block = widgets.HBox([p_second_slider, omega_second_slider])\n",
    "p_third_block = widgets.HBox([p_third_slider, omega_third_slider])\n",
    "p_fourth_block = widgets.HBox([p_fourth_slider, omega_fourth_slider])\n",
    "p_end_first_block = widgets.HBox([p_end_first_slider, omega_end_first_slider])\n",
    "p_end_second_block = widgets.HBox([p_end_second_slider, omega_end_second_slider])\n",
    "set_values_ui = widgets.VBox([resonanse_block, p_first_block, p_second_block, p_third_block, p_fourth_block, p_end_first_block, p_end_second_block])\n",
    "\n",
    "set_values_widget = interactive_output(set_values, {\n",
    "    '_p_average_max': p_max_slider,\n",
    "    '_omega_zero': omega_zero_slider,\n",
    "    'p_first': p_first_slider,\n",
    "    'p_second': p_second_slider,\n",
    "    'p_third': p_third_slider,\n",
    "    'p_fourth': p_fourth_slider,\n",
    "    'omega_first': omega_first_slider,\n",
    "    'omega_second': omega_second_slider,\n",
    "    'omega_third': omega_third_slider,\n",
    "    'omega_fourth': omega_fourth_slider,\n",
    "    'p_end_first': p_end_first_slider,\n",
    "    'p_end_second': p_end_second_slider,\n",
    "    'omega_end_first': omega_end_first_slider,\n",
    "    'omega_end_second': omega_end_second_slider,\n",
    "})\n",
    "\n",
    "display(set_values_ui, set_values_widget)"
   ]
  },
  {
   "cell_type": "markdown",
   "id": "2f434bbb-ec82-415a-a05b-38377ab8cd35",
   "metadata": {},
   "source": [
    "Строим приблежённый график по заданным точкам\n",
    "-----"
   ]
  },
  {
   "cell_type": "markdown",
   "id": "87e69ff5-7682-4b6f-9358-29297b50ec63",
   "metadata": {},
   "source": [
    "Отмечаем точки"
   ]
  },
  {
   "cell_type": "code",
   "execution_count": 3,
   "id": "87057ef5-d6c1-4e53-a62a-76122f5a1c3f",
   "metadata": {
    "tags": []
   },
   "outputs": [
    {
     "data": {
      "image/png": "[encoded data removed]",
      "text/plain": [
       "<Figure size 432x288 with 1 Axes>"
      ]
     },
     "metadata": {
      "needs_background": "light"
     },
     "output_type": "display_data"
    }
   ],
   "source": [
    "import numpy as np\n",
    "import matplotlib.pyplot as plt\n",
    "\n",
    "x = np.array(plot_data.omega_values)\n",
    "y = np.array(plot_data.p_values)\n",
    "\n",
    "plt.scatter(x, y)\n",
    "plt.xlabel(\"ω, Гц\")\n",
    "plt.ylabel(\"<P>, у.е.\")\n",
    "plt.show()"
   ]
  },
  {
   "cell_type": "markdown",
   "id": "f1e1c6a4-8c57-41e6-8406-8da4eb49e4db",
   "metadata": {},
   "source": [
    "Строим плавную кривую"
   ]
  },
  {
   "cell_type": "code",
   "execution_count": 4,
   "id": "e49f5ba6-deaa-41d5-aaea-2917b6a346d6",
   "metadata": {
    "tags": []
   },
   "outputs": [
    {
     "data": {
      "image/png": "[encoded data removed]",
      "text/plain": [
       "<Figure size 432x288 with 1 Axes>"
      ]
     },
     "metadata": {
      "needs_background": "light"
     },
     "output_type": "display_data"
    }
   ],
   "source": [
    "import numpy as np\n",
    "import scipy.interpolate\n",
    "\n",
    "curve = scipy.interpolate.interp1d(x, y, kind=2)\n",
    "X_ = np.linspace(x.min(), x.max(), 500 )\n",
    "Y_ = curve(X_)\n",
    "\n",
    "plt.plot(X_, Y_)\n",
    "plt.xlabel(\"ω, Гц\")\n",
    "plt.ylabel(\"<P>, у.е.\")\n",
    "plt.show()"
   ]
  },
  {
   "cell_type": "markdown",
   "id": "1c59de39-5abc-48b6-8b60-45540583a35d",
   "metadata": {},
   "source": [
    "Подбираем коэффициент затухания\n",
    "-----"
   ]
  },
  {
   "cell_type": "code",
   "execution_count": 5,
   "id": "0b2375d5-8208-49be-ada6-90c4487f5971",
   "metadata": {
    "jupyter": {
     "source_hidden": true
    },
    "tags": []
   },
   "outputs": [
    {
     "data": {
      "application/vnd.jupyter.widget-view+json": {
       "model_id": "229111504b744ba6891fac0c96ba7b42",
       "version_major": 2,
       "version_minor": 0
      },
      "text/plain": [
       "interactive(children=(FloatSlider(value=37.9, description='β', min=1.0), Output()), _dom_classes=('widget-inte…"
      ]
     },
     "metadata": {},
     "output_type": "display_data"
    }
   ],
   "source": [
    "from ipywidgets import interact\n",
    "\n",
    "def theoretic_p(omega, omega_zero, beta):\n",
    "    return (16*omega*omega*beta*beta)/((omega*omega - omega_zero*omega_zero)*(omega*omega - omega_zero*omega_zero) + 4*beta*beta*omega*omega)\n",
    "theoretic_p = np.vectorize(theoretic_p, excluded={'omega_zero, beta'})\n",
    "\n",
    "@interact(beta = widgets.FloatSlider(value=37.90, min=1, max=100, step=0.1, description='β'))\n",
    "def set_beta_value(beta):\n",
    "    plot_data.beta = beta"
   ]
  },
  {
   "cell_type": "code",
   "execution_count": 6,
   "id": "7cd677eb-d7d2-4c4d-b66d-9482eda62552",
   "metadata": {},
   "outputs": [
    {
     "data": {
      "image/png": "[encoded data removed]",
      "text/plain": [
       "<Figure size 432x288 with 1 Axes>"
      ]
     },
     "metadata": {
      "needs_background": "light"
     },
     "output_type": "display_data"
    },
    {
     "name": "stdout",
     "output_type": "stream",
     "text": [
      "Среднеквадратичная ошибка: 0.04433236785892009\n"
     ]
    }
   ],
   "source": [
    "x_theoretical = np.linspace(x.min(), x.max(), 500)\n",
    "y_theoretical = theoretic_p(x_theoretical, plot_data.omega_zero, plot_data.beta)\n",
    "\n",
    "plt.plot(X_, Y_, label='По точкам')\n",
    "plt.plot(x_theoretical, y_theoretical, label='Теоретическое')\n",
    "plt.xlabel(\"ω, Гц\")\n",
    "plt.ylabel(\"<P>, у.е.\")\n",
    "plt.legend()\n",
    "plt.show()\n",
    "\n",
    "def calculate_mse(y_list):\n",
    "    mse = 0\n",
    "    for p_experimental, p_theoretical in zip(Y_, y_list):\n",
    "        mse += (p_experimental - p_theoretical)*(p_experimental - p_theoretical)\n",
    "    mse /= len(y_list)\n",
    "    return mse\n",
    "\n",
    "print(f'Среднеквадратичная ошибка: {calculate_mse(y_theoretical)}')"
   ]
  },
  {
   "cell_type": "markdown",
   "id": "66bd3a36-8cac-45a1-a2bd-cf867a4fa5d0",
   "metadata": {},
   "source": [
    "Поиск оптимального значения коэффициента затухания\n",
    "---\n",
    "\n",
    "Зная примерное значение β мы можем ограничить отрезок для поиска и найти оптимальное"
   ]
  },
  {
   "cell_type": "code",
   "execution_count": 7,
   "id": "996acde1-caac-4d1b-bf11-8854f1857eb7",
   "metadata": {
    "jupyter": {
     "source_hidden": true
    },
    "tags": []
   },
   "outputs": [
    {
     "data": {
      "application/vnd.jupyter.widget-view+json": {
       "model_id": "f3a0dfb698ba48ec9c7c0ec71e19a5c5",
       "version_major": 2,
       "version_minor": 0
      },
      "text/plain": [
       "HBox(children=(IntSlider(value=10, description='β min', min=1), IntSlider(value=50, description='β max', min=1…"
      ]
     },
     "metadata": {},
     "output_type": "display_data"
    },
    {
     "data": {
      "application/vnd.jupyter.widget-view+json": {
       "model_id": "a07540bf20954679bef6ce89ea30b93d",
       "version_major": 2,
       "version_minor": 0
      },
      "text/plain": [
       "Output()"
      ]
     },
     "metadata": {},
     "output_type": "display_data"
    }
   ],
   "source": [
    "from ipywidgets import interactive_output\n",
    "import ipywidgets as widgets\n",
    "from IPython.display import display\n",
    "\n",
    "def set_boundaries(left_boundary, right_boundary):\n",
    "    plot_data.left_boundary = left_boundary\n",
    "    plot_data.right_boundary = right_boundary\n",
    "\n",
    "left_boundary_slider = widgets.IntSlider(value=10, min=1, max=100, description='β min')\n",
    "right_boundary_slider = widgets.IntSlider(value=50, min=1, max=100, description='β max')\n",
    "\n",
    "set_boundaries_ui = widgets.HBox([left_boundary_slider, right_boundary_slider])\n",
    "\n",
    "set_boundaries_widget = interactive_output(set_boundaries, {\n",
    "    'left_boundary': left_boundary_slider,\n",
    "    'right_boundary': right_boundary_slider,\n",
    "})\n",
    "\n",
    "display(set_boundaries_ui, set_boundaries_widget)"
   ]
  },
  {
   "cell_type": "code",
   "execution_count": 8,
   "id": "d6565a91-1ac7-4fa9-82b8-b2aee9c8b772",
   "metadata": {
    "tags": []
   },
   "outputs": [
    {
     "name": "stdout",
     "output_type": "stream",
     "text": [
      "Оптимальное значение β: 39.009780660\n",
      "Среднеквадратичная ошибка: 0.04299918564809542\n"
     ]
    },
    {
     "data": {
      "image/png": "[encoded data removed]",
      "text/plain": [
       "<Figure size 432x288 with 1 Axes>"
      ]
     },
     "metadata": {
      "needs_background": "light"
     },
     "output_type": "display_data"
    }
   ],
   "source": [
    "left_boundary = plot_data.left_boundary\n",
    "right_boundary = plot_data.right_boundary\n",
    "\n",
    "left_mse = calculate_mse(theoretic_p(x_theoretical, plot_data.omega_zero, left_boundary))\n",
    "right_mse = calculate_mse(theoretic_p(x_theoretical, plot_data.omega_zero, right_boundary))\n",
    "\n",
    "while (right_boundary - left_boundary > 1e-10):\n",
    "    center = (right_boundary + left_boundary)/2\n",
    "    center_mse = calculate_mse(theoretic_p(x_theoretical, plot_data.omega_zero, center))\n",
    "    if center_mse < left_mse and left_mse > right_mse:\n",
    "        left_boundary = center\n",
    "        left_mse = center_mse\n",
    "    elif center_mse < right_mse and right_mse > left_mse:\n",
    "        right_boundary = center\n",
    "        right_mse = center_mse\n",
    "    elif left_mse < right_mse:\n",
    "        right_boundary = center\n",
    "        right_mse = center_mse\n",
    "    else:\n",
    "        left_boundary = center\n",
    "        left_mse = center_mse\n",
    "        \n",
    "optimal_beta = (left_boundary+right_boundary)/2\n",
    "y_optimal = theoretic_p(x_theoretical, plot_data.omega_zero, optimal_beta)\n",
    "optimal_mse = calculate_mse(y_optimal)\n",
    "\n",
    "print(f'Оптимальное значение β: {optimal_beta:.9f}\\nСреднеквадратичная ошибка: {optimal_mse}')\n",
    "\n",
    "plt.plot(X_, Y_, label='По точкам')\n",
    "plt.plot(x_theoretical, y_optimal, label='Оптимальное')\n",
    "plt.xlabel(\"ω, Гц\")\n",
    "plt.ylabel(\"<P>, у.е.\")\n",
    "plt.legend()\n",
    "plt.show()"
   ]
  },
  {
   "cell_type": "code",
   "execution_count": null,
   "id": "846bf88e-677d-4709-bea6-36a361597662",
   "metadata": {},
   "outputs": [],
   "source": []
  }
 ],
 "metadata": {
  "kernelspec": {
   "display_name": "Python 3",
   "language": "python",
   "name": "python3"
  },
  "language_info": {
   "codemirror_mode": {
    "name": "ipython",
    "version": 3
   },
   "file_extension": ".py",
   "mimetype": "text/x-python",
   "name": "python",
   "nbconvert_exporter": "python",
   "pygments_lexer": "ipython3",
   "version": "3.9.5"
  }
 },
 "nbformat": 4,
 "nbformat_minor": 5
}
