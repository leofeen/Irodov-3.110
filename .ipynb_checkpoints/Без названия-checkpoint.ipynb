{
 "cells": [
  {
   "cell_type": "markdown",
   "id": "9089cf80",
   "metadata": {},
   "source": [
    "Задаём начальные условия"
   ]
  },
  {
   "cell_type": "code",
   "execution_count": 105,
   "id": "cf77c354",
   "metadata": {
    "tags": []
   },
   "outputs": [],
   "source": [
    "class PlotData:\n",
    "    def __init__(self):\n",
    "        self.p_average_max = 0\n",
    "        self.omega_zero = 0\n",
    "        self.p_values = [0, 0, 0, 0, 0]\n",
    "        self.omega_values = [0, 0, 0, 0, 0]\n",
    "        self.beta = 0\n",
    "        \n",
    "    def __str__(self):\n",
    "        return f'{self.p_average_max}, {self.omega_zero}, {self.p_values}, {self.omega_values}, {self.beta}'\n",
    "        \n",
    "plot_data = PlotData()"
   ]
  },
  {
   "cell_type": "code",
   "execution_count": 80,
   "id": "268fdf00",
   "metadata": {
    "jupyter": {
     "source_hidden": true
    },
    "scrolled": true,
    "tags": []
   },
   "outputs": [
    {
     "data": {
      "application/vnd.jupyter.widget-view+json": {
       "model_id": "ddd3ce5e36a146a782fa88e015d8d8a4",
       "version_major": 2,
       "version_minor": 0
      },
      "text/plain": [
       "VBox(children=(HBox(children=(IntSlider(value=4, description='P max', max=10, min=1), IntSlider(value=250, des…"
      ]
     },
     "metadata": {},
     "output_type": "display_data"
    },
    {
     "data": {
      "application/vnd.jupyter.widget-view+json": {
       "model_id": "ac734fb2722040c99fda901878aeb21e",
       "version_major": 2,
       "version_minor": 0
      },
      "text/plain": [
       "Output()"
      ]
     },
     "metadata": {},
     "output_type": "display_data"
    }
   ],
   "source": [
    "from ipywidgets import interactive_output\n",
    "import ipywidgets as widgets\n",
    "from IPython.display import display\n",
    "\n",
    "def set_values(_p_average_max, _omega_zero, p_first, p_second, p_third, p_fourth, p_end_first, p_end_second, omega_first, omega_second, omega_third, omega_fourth, omega_end_first, omega_end_second):\n",
    "    plot_data.p_average_max = _p_average_max\n",
    "    plot_data.omega_zero = _omega_zero\n",
    "    plot_data.p_values = [p_end_first, p_first, p_second, _p_average_max, p_third, p_fourth, p_end_second]\n",
    "    plot_data.omega_values = [omega_end_first, omega_first, omega_second, _omega_zero, omega_third, omega_fourth, omega_end_second]\n",
    "\n",
    "p_max_slider = widgets.IntSlider(value=4, min=1, max=10, description='P max')\n",
    "omega_zero_slider = widgets.IntSlider(value=250, min=150, max=350, description='ω0')\n",
    "\n",
    "p_first_slider = widgets.FloatSlider(value=0.5, min=0, max=10, description='P1', step=0.1)\n",
    "p_second_slider = widgets.FloatSlider(value=1, min=0, max=10, description='P2', step=0.1)\n",
    "p_third_slider = widgets.FloatSlider(value=1, min=0, max=10, description='P3', step=0.1)\n",
    "p_fourth_slider = widgets.FloatSlider(value=0.5, min=0, max=10, description='P4', step=0.1)\n",
    "p_end_first_slider = widgets.FloatSlider(value=0.2, min=0.1, max=10, description='P end1', step=0.1)\n",
    "p_end_second_slider = widgets.FloatSlider(value=0.3, min=0.1, max=10, description='P end2', step=0.1)\n",
    "\n",
    "omega_first_slider = widgets.IntSlider(value=150, min=150, max=350, description='ω1')\n",
    "omega_second_slider = widgets.IntSlider(value=190, min=150, max=350, description='ω2')\n",
    "omega_third_slider = widgets.IntSlider(value=310, min=150, max=400, description='ω3')\n",
    "omega_fourth_slider = widgets.IntSlider(value=360, min=150, max=400, description='ω4')\n",
    "omega_end_first_slider = widgets.IntSlider(value=100, min=100, max=350, description='ω end1')\n",
    "omega_end_second_slider = widgets.IntSlider(value=400, min=150, max=400, description='ω end2')\n",
    "\n",
    "resonanse_block = widgets.HBox([p_max_slider, omega_zero_slider])\n",
    "p_first_block = widgets.HBox([p_first_slider, omega_first_slider])\n",
    "p_second_block = widgets.HBox([p_second_slider, omega_second_slider])\n",
    "p_third_block = widgets.HBox([p_third_slider, omega_third_slider])\n",
    "p_fourth_block = widgets.HBox([p_fourth_slider, omega_fourth_slider])\n",
    "p_end_first_block = widgets.HBox([p_end_first_slider, omega_end_first_slider])\n",
    "p_end_second_block = widgets.HBox([p_end_second_slider, omega_end_second_slider])\n",
    "set_values_ui = widgets.VBox([resonanse_block, p_first_block, p_second_block, p_third_block, p_fourth_block, p_end_first_block, p_end_second_block])\n",
    "\n",
    "set_values_widget = interactive_output(set_values, {\n",
    "    '_p_average_max': p_max_slider,\n",
    "    '_omega_zero': omega_zero_slider,\n",
    "    'p_first': p_first_slider,\n",
    "    'p_second': p_second_slider,\n",
    "    'p_third': p_third_slider,\n",
    "    'p_fourth': p_fourth_slider,\n",
    "    'omega_first': omega_first_slider,\n",
    "    'omega_second': omega_second_slider,\n",
    "    'omega_third': omega_third_slider,\n",
    "    'omega_fourth': omega_fourth_slider,\n",
    "    'p_end_first': p_end_first_slider,\n",
    "    'p_end_second': p_end_second_slider,\n",
    "    'omega_end_first': omega_end_first_slider,\n",
    "    'omega_end_second': omega_end_second_slider,\n",
    "})\n",
    "\n",
    "display(set_values_ui, set_values_widget)"
   ]
  },
  {
   "cell_type": "markdown",
   "id": "2f434bbb-ec82-415a-a05b-38377ab8cd35",
   "metadata": {},
   "source": [
    "Строим приблежённый график по заданным точкам\n",
    "-----"
   ]
  },
  {
   "cell_type": "markdown",
   "id": "87e69ff5-7682-4b6f-9358-29297b50ec63",
   "metadata": {},
   "source": [
    "Отмечаем точки"
   ]
  },
  {
   "cell_type": "code",
   "execution_count": 81,
   "id": "87057ef5-d6c1-4e53-a62a-76122f5a1c3f",
   "metadata": {
    "jupyter": {
     "source_hidden": true
    },
    "tags": []
   },
   "outputs": [
    {
     "data": {
      "image/png": "[encoded data removed]",
      "text/plain": [
       "<Figure size 432x288 with 1 Axes>"
      ]
     },
     "metadata": {
      "needs_background": "light"
     },
     "output_type": "display_data"
    }
   ],
   "source": [
    "import numpy as np\n",
    "import matplotlib.pyplot as plt\n",
    "\n",
    "x = np.array(plot_data.omega_values)\n",
    "y = np.array(plot_data.p_values)\n",
    "\n",
    "plt.scatter(x, y)\n",
    "plt.xlabel(\"ω\")\n",
    "plt.ylabel(\"<P>\")\n",
    "plt.show()"
   ]
  },
  {
   "cell_type": "markdown",
   "id": "f1e1c6a4-8c57-41e6-8406-8da4eb49e4db",
   "metadata": {},
   "source": [
    "Строим плавную кривую"
   ]
  },
  {
   "cell_type": "code",
   "execution_count": 90,
   "id": "e49f5ba6-deaa-41d5-aaea-2917b6a346d6",
   "metadata": {
    "jupyter": {
     "source_hidden": true
    },
    "tags": []
   },
   "outputs": [
    {
     "data": {
      "image/png": "[encoded data removed]",
      "text/plain": [
       "<Figure size 432x288 with 1 Axes>"
      ]
     },
     "metadata": {
      "needs_background": "light"
     },
     "output_type": "display_data"
    }
   ],
   "source": [
    "import numpy as np\n",
    "import scipy\n",
    "\n",
    "curve = scipy.interpolate.interp1d(x, y, kind=2)\n",
    "X_ = np.linspace(x.min(), x.max(), 500 )\n",
    "Y_ = curve(X_)\n",
    "\n",
    "plt.plot(X_, Y_)\n",
    "plt.xlabel(\"ω\")\n",
    "plt.ylabel(\"<P>\")\n",
    "plt.show()"
   ]
  },
  {
   "cell_type": "markdown",
   "id": "1c59de39-5abc-48b6-8b60-45540583a35d",
   "metadata": {},
   "source": [
    "Подбираем коэффициент затухания"
   ]
  },
  {
   "cell_type": "code",
   "execution_count": 125,
   "id": "0b2375d5-8208-49be-ada6-90c4487f5971",
   "metadata": {
    "jupyter": {
     "source_hidden": true
    },
    "tags": []
   },
   "outputs": [
    {
     "data": {
      "application/vnd.jupyter.widget-view+json": {
       "model_id": "574240d0ef224f768412af1425893324",
       "version_major": 2,
       "version_minor": 0
      },
      "text/plain": [
       "interactive(children=(FloatSlider(value=30.0, description='β', max=60.0, min=1.0), Output()), _dom_classes=('w…"
      ]
     },
     "metadata": {},
     "output_type": "display_data"
    }
   ],
   "source": [
    "from ipywidgets import interact\n",
    "\n",
    "def theoretic_p(omega, omega_zero, beta):\n",
    "    return (16*omega*omega*beta*beta)/((omega*omega - omega_zero*omega_zero)*(omega*omega - omega_zero*omega_zero) + 4*beta*beta*omega*omega)\n",
    "theoretic_p = np.vectorize(theoretic_p, excluded={'omega_zero, beta'})\n",
    "\n",
    "@interact(beta = widgets.FloatSlider(value=30, min=1, max=60, step=0.1, description='β'))\n",
    "def set_beta_value(beta):\n",
    "    plot_data.beta = beta"
   ]
  },
  {
   "cell_type": "code",
   "execution_count": 127,
   "id": "7cd677eb-d7d2-4c4d-b66d-9482eda62552",
   "metadata": {},
   "outputs": [
    {
     "data": {
      "image/png": "[encoded data removed]",
      "text/plain": [
       "<Figure size 432x288 with 1 Axes>"
      ]
     },
     "metadata": {
      "needs_background": "light"
     },
     "output_type": "display_data"
    }
   ],
   "source": [
    "x_theoretic = np.linspace(x.min(), x.max(), 500)\n",
    "y_theoretic = theoretic_p(x_theoretic, plot_data.omega_zero, plot_data.beta)\n",
    "\n",
    "plt.plot(X_, Y_, label='По точкам')\n",
    "plt.plot(x_theoretic, y_theoretic, label='Теоретическое')\n",
    "plt.xlabel(\"ω\")\n",
    "plt.ylabel(\"<P>\")\n",
    "plt.legend()\n",
    "plt.show()"
   ]
  },
  {
   "cell_type": "code",
   "execution_count": null,
   "id": "593caf34-6db9-4ee2-b194-6dee2ef4e79e",
   "metadata": {},
   "outputs": [],
   "source": []
  }
 ],
 "metadata": {
  "kernelspec": {
   "display_name": "Python 3",
   "language": "python",
   "name": "python3"
  },
  "language_info": {
   "codemirror_mode": {
    "name": "ipython",
    "version": 3
   },
   "file_extension": ".py",
   "mimetype": "text/x-python",
   "name": "python",
   "nbconvert_exporter": "python",
   "pygments_lexer": "ipython3",
   "version": "3.9.5"
  }
 },
 "nbformat": 4,
 "nbformat_minor": 5
}
